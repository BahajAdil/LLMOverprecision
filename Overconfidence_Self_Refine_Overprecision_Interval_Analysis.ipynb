{
  "nbformat": 4,
  "nbformat_minor": 0,
  "metadata": {
    "colab": {
      "provenance": []
    },
    "kernelspec": {
      "name": "python3",
      "display_name": "Python 3"
    },
    "language_info": {
      "name": "python"
    },
    "widgets": {
      "application/vnd.jupyter.widget-state+json": {
        "d1fa070ecef945199680d596f0f16787": {
          "model_module": "@jupyter-widgets/controls",
          "model_name": "HBoxModel",
          "model_module_version": "1.5.0",
          "state": {
            "_dom_classes": [],
            "_model_module": "@jupyter-widgets/controls",
            "_model_module_version": "1.5.0",
            "_model_name": "HBoxModel",
            "_view_count": null,
            "_view_module": "@jupyter-widgets/controls",
            "_view_module_version": "1.5.0",
            "_view_name": "HBoxView",
            "box_style": "",
            "children": [
              "IPY_MODEL_6c5d112b820c47ccb5072ed4181fe438",
              "IPY_MODEL_887a5a57d2884258b5dac32230a70154",
              "IPY_MODEL_448cba2ebd574d5ca111ebafd62157d3"
            ],
            "layout": "IPY_MODEL_0587613322814fcfa1b1c3ba49244b07"
          }
        },
        "6c5d112b820c47ccb5072ed4181fe438": {
          "model_module": "@jupyter-widgets/controls",
          "model_name": "HTMLModel",
          "model_module_version": "1.5.0",
          "state": {
            "_dom_classes": [],
            "_model_module": "@jupyter-widgets/controls",
            "_model_module_version": "1.5.0",
            "_model_name": "HTMLModel",
            "_view_count": null,
            "_view_module": "@jupyter-widgets/controls",
            "_view_module_version": "1.5.0",
            "_view_name": "HTMLView",
            "description": "",
            "description_tooltip": null,
            "layout": "IPY_MODEL_84e4e78b2b3b42118ca4acf10a9e752f",
            "placeholder": "​",
            "style": "IPY_MODEL_affe8903dc974b3db7e32484e7ae21cc",
            "value": "100%"
          }
        },
        "887a5a57d2884258b5dac32230a70154": {
          "model_module": "@jupyter-widgets/controls",
          "model_name": "FloatProgressModel",
          "model_module_version": "1.5.0",
          "state": {
            "_dom_classes": [],
            "_model_module": "@jupyter-widgets/controls",
            "_model_module_version": "1.5.0",
            "_model_name": "FloatProgressModel",
            "_view_count": null,
            "_view_module": "@jupyter-widgets/controls",
            "_view_module_version": "1.5.0",
            "_view_name": "ProgressView",
            "bar_style": "success",
            "description": "",
            "description_tooltip": null,
            "layout": "IPY_MODEL_1cabded1a82a4ee99eba95ec9333573a",
            "max": 8027,
            "min": 0,
            "orientation": "horizontal",
            "style": "IPY_MODEL_d77691d3d9094059aeb2c34cd7f4b083",
            "value": 8027
          }
        },
        "448cba2ebd574d5ca111ebafd62157d3": {
          "model_module": "@jupyter-widgets/controls",
          "model_name": "HTMLModel",
          "model_module_version": "1.5.0",
          "state": {
            "_dom_classes": [],
            "_model_module": "@jupyter-widgets/controls",
            "_model_module_version": "1.5.0",
            "_model_name": "HTMLModel",
            "_view_count": null,
            "_view_module": "@jupyter-widgets/controls",
            "_view_module_version": "1.5.0",
            "_view_name": "HTMLView",
            "description": "",
            "description_tooltip": null,
            "layout": "IPY_MODEL_f730c74a8247461da011c6182f092a79",
            "placeholder": "​",
            "style": "IPY_MODEL_edfbcc4131d64f1e95dcca21a25368df",
            "value": " 8027/8027 [01:10&lt;00:00, 126.77it/s]"
          }
        },
        "0587613322814fcfa1b1c3ba49244b07": {
          "model_module": "@jupyter-widgets/base",
          "model_name": "LayoutModel",
          "model_module_version": "1.2.0",
          "state": {
            "_model_module": "@jupyter-widgets/base",
            "_model_module_version": "1.2.0",
            "_model_name": "LayoutModel",
            "_view_count": null,
            "_view_module": "@jupyter-widgets/base",
            "_view_module_version": "1.2.0",
            "_view_name": "LayoutView",
            "align_content": null,
            "align_items": null,
            "align_self": null,
            "border": null,
            "bottom": null,
            "display": null,
            "flex": null,
            "flex_flow": null,
            "grid_area": null,
            "grid_auto_columns": null,
            "grid_auto_flow": null,
            "grid_auto_rows": null,
            "grid_column": null,
            "grid_gap": null,
            "grid_row": null,
            "grid_template_areas": null,
            "grid_template_columns": null,
            "grid_template_rows": null,
            "height": null,
            "justify_content": null,
            "justify_items": null,
            "left": null,
            "margin": null,
            "max_height": null,
            "max_width": null,
            "min_height": null,
            "min_width": null,
            "object_fit": null,
            "object_position": null,
            "order": null,
            "overflow": null,
            "overflow_x": null,
            "overflow_y": null,
            "padding": null,
            "right": null,
            "top": null,
            "visibility": null,
            "width": null
          }
        },
        "84e4e78b2b3b42118ca4acf10a9e752f": {
          "model_module": "@jupyter-widgets/base",
          "model_name": "LayoutModel",
          "model_module_version": "1.2.0",
          "state": {
            "_model_module": "@jupyter-widgets/base",
            "_model_module_version": "1.2.0",
            "_model_name": "LayoutModel",
            "_view_count": null,
            "_view_module": "@jupyter-widgets/base",
            "_view_module_version": "1.2.0",
            "_view_name": "LayoutView",
            "align_content": null,
            "align_items": null,
            "align_self": null,
            "border": null,
            "bottom": null,
            "display": null,
            "flex": null,
            "flex_flow": null,
            "grid_area": null,
            "grid_auto_columns": null,
            "grid_auto_flow": null,
            "grid_auto_rows": null,
            "grid_column": null,
            "grid_gap": null,
            "grid_row": null,
            "grid_template_areas": null,
            "grid_template_columns": null,
            "grid_template_rows": null,
            "height": null,
            "justify_content": null,
            "justify_items": null,
            "left": null,
            "margin": null,
            "max_height": null,
            "max_width": null,
            "min_height": null,
            "min_width": null,
            "object_fit": null,
            "object_position": null,
            "order": null,
            "overflow": null,
            "overflow_x": null,
            "overflow_y": null,
            "padding": null,
            "right": null,
            "top": null,
            "visibility": null,
            "width": null
          }
        },
        "affe8903dc974b3db7e32484e7ae21cc": {
          "model_module": "@jupyter-widgets/controls",
          "model_name": "DescriptionStyleModel",
          "model_module_version": "1.5.0",
          "state": {
            "_model_module": "@jupyter-widgets/controls",
            "_model_module_version": "1.5.0",
            "_model_name": "DescriptionStyleModel",
            "_view_count": null,
            "_view_module": "@jupyter-widgets/base",
            "_view_module_version": "1.2.0",
            "_view_name": "StyleView",
            "description_width": ""
          }
        },
        "1cabded1a82a4ee99eba95ec9333573a": {
          "model_module": "@jupyter-widgets/base",
          "model_name": "LayoutModel",
          "model_module_version": "1.2.0",
          "state": {
            "_model_module": "@jupyter-widgets/base",
            "_model_module_version": "1.2.0",
            "_model_name": "LayoutModel",
            "_view_count": null,
            "_view_module": "@jupyter-widgets/base",
            "_view_module_version": "1.2.0",
            "_view_name": "LayoutView",
            "align_content": null,
            "align_items": null,
            "align_self": null,
            "border": null,
            "bottom": null,
            "display": null,
            "flex": null,
            "flex_flow": null,
            "grid_area": null,
            "grid_auto_columns": null,
            "grid_auto_flow": null,
            "grid_auto_rows": null,
            "grid_column": null,
            "grid_gap": null,
            "grid_row": null,
            "grid_template_areas": null,
            "grid_template_columns": null,
            "grid_template_rows": null,
            "height": null,
            "justify_content": null,
            "justify_items": null,
            "left": null,
            "margin": null,
            "max_height": null,
            "max_width": null,
            "min_height": null,
            "min_width": null,
            "object_fit": null,
            "object_position": null,
            "order": null,
            "overflow": null,
            "overflow_x": null,
            "overflow_y": null,
            "padding": null,
            "right": null,
            "top": null,
            "visibility": null,
            "width": null
          }
        },
        "d77691d3d9094059aeb2c34cd7f4b083": {
          "model_module": "@jupyter-widgets/controls",
          "model_name": "ProgressStyleModel",
          "model_module_version": "1.5.0",
          "state": {
            "_model_module": "@jupyter-widgets/controls",
            "_model_module_version": "1.5.0",
            "_model_name": "ProgressStyleModel",
            "_view_count": null,
            "_view_module": "@jupyter-widgets/base",
            "_view_module_version": "1.2.0",
            "_view_name": "StyleView",
            "bar_color": null,
            "description_width": ""
          }
        },
        "f730c74a8247461da011c6182f092a79": {
          "model_module": "@jupyter-widgets/base",
          "model_name": "LayoutModel",
          "model_module_version": "1.2.0",
          "state": {
            "_model_module": "@jupyter-widgets/base",
            "_model_module_version": "1.2.0",
            "_model_name": "LayoutModel",
            "_view_count": null,
            "_view_module": "@jupyter-widgets/base",
            "_view_module_version": "1.2.0",
            "_view_name": "LayoutView",
            "align_content": null,
            "align_items": null,
            "align_self": null,
            "border": null,
            "bottom": null,
            "display": null,
            "flex": null,
            "flex_flow": null,
            "grid_area": null,
            "grid_auto_columns": null,
            "grid_auto_flow": null,
            "grid_auto_rows": null,
            "grid_column": null,
            "grid_gap": null,
            "grid_row": null,
            "grid_template_areas": null,
            "grid_template_columns": null,
            "grid_template_rows": null,
            "height": null,
            "justify_content": null,
            "justify_items": null,
            "left": null,
            "margin": null,
            "max_height": null,
            "max_width": null,
            "min_height": null,
            "min_width": null,
            "object_fit": null,
            "object_position": null,
            "order": null,
            "overflow": null,
            "overflow_x": null,
            "overflow_y": null,
            "padding": null,
            "right": null,
            "top": null,
            "visibility": null,
            "width": null
          }
        },
        "edfbcc4131d64f1e95dcca21a25368df": {
          "model_module": "@jupyter-widgets/controls",
          "model_name": "DescriptionStyleModel",
          "model_module_version": "1.5.0",
          "state": {
            "_model_module": "@jupyter-widgets/controls",
            "_model_module_version": "1.5.0",
            "_model_name": "DescriptionStyleModel",
            "_view_count": null,
            "_view_module": "@jupyter-widgets/base",
            "_view_module_version": "1.2.0",
            "_view_name": "StyleView",
            "description_width": ""
          }
        }
      }
    }
  },
  "cells": [
    {
      "cell_type": "code",
      "execution_count": null,
      "metadata": {
        "colab": {
          "base_uri": "https://localhost:8080/"
        },
        "id": "c-r-SiINKLL9",
        "outputId": "900be806-7f9f-4716-fd70-285d0e4a333e"
      },
      "outputs": [
        {
          "output_type": "stream",
          "name": "stdout",
          "text": [
            "\u001b[?25l   \u001b[90m━━━━━━━━━━━━━━━━━━━━━━━━━━━━━━━━━━━━━━━━\u001b[0m \u001b[32m0.0/134.9 kB\u001b[0m \u001b[31m?\u001b[0m eta \u001b[36m-:--:--\u001b[0m\r\u001b[2K   \u001b[90m━━━━━━━━━━━━━━━━━━━━━━━━━━━━━━━━━━━━━━━━\u001b[0m \u001b[32m134.9/134.9 kB\u001b[0m \u001b[31m4.9 MB/s\u001b[0m eta \u001b[36m0:00:00\u001b[0m\n",
            "\u001b[?25h"
          ]
        }
      ],
      "source": [
        "!pip -q install groq"
      ]
    },
    {
      "cell_type": "code",
      "source": [
        "!pip install -qU langchain langchain-openai"
      ],
      "metadata": {
        "colab": {
          "base_uri": "https://localhost:8080/"
        },
        "id": "nhsphS2lLD93",
        "outputId": "2b335fec-a500-4c96-c70d-7f74155c93b0"
      },
      "execution_count": null,
      "outputs": [
        {
          "output_type": "stream",
          "name": "stdout",
          "text": [
            "\u001b[?25l   \u001b[90m━━━━━━━━━━━━━━━━━━━━━━━━━━━━━━━━━━━━━━━━\u001b[0m \u001b[32m0.0/74.5 kB\u001b[0m \u001b[31m?\u001b[0m eta \u001b[36m-:--:--\u001b[0m\r\u001b[2K   \u001b[90m━━━━━━━━━━━━━━━━━━━━━━━━━━━━━━━━━━━━━━━━\u001b[0m \u001b[32m74.5/74.5 kB\u001b[0m \u001b[31m2.8 MB/s\u001b[0m eta \u001b[36m0:00:00\u001b[0m\n",
            "\u001b[?25h"
          ]
        }
      ]
    },
    {
      "cell_type": "code",
      "execution_count": null,
      "metadata": {
        "id": "vtxDoqxoV3va"
      },
      "outputs": [],
      "source": [
        "import random\n",
        "from groq import Groq\n",
        "from os.path import join\n",
        "import json\n",
        "import pandas as pd\n",
        "import os\n",
        "from tqdm.notebook import tqdm\n",
        "import re\n",
        "from multiprocessing.pool import ThreadPool\n",
        "import openai\n",
        "from openai import OpenAI\n",
        "from sklearn.utils import shuffle\n",
        "import ast\n",
        "from langchain_core.output_parsers import JsonOutputParser\n",
        "from langchain_core.prompts import PromptTemplate\n",
        "from langchain_openai import ChatOpenAI\n",
        "from pydantic import BaseModel, Field\n",
        "import numpy as np\n",
        "from scipy.stats import rankdata\n",
        "import seaborn as sns\n",
        "from collections import Counter\n",
        "import matplotlib.pyplot as plt\n",
        "\n",
        "DATA_PATH = \"/content/drive/MyDrive/1 PhD/OverconfidenceLLM/precision/data\"\n",
        "SAVE_PATH = \"/content/drive/MyDrive/1 PhD/OverconfidenceLLM/precision/outputs\""
      ]
    },
    {
      "cell_type": "code",
      "execution_count": null,
      "metadata": {
        "colab": {
          "base_uri": "https://localhost:8080/"
        },
        "id": "K0ysB_zOCVWu",
        "outputId": "a76e53ec-028e-49d7-baf0-82ec77273b59"
      },
      "outputs": [
        {
          "output_type": "stream",
          "name": "stdout",
          "text": [
            "Drive already mounted at /content/drive; to attempt to forcibly remount, call drive.mount(\"/content/drive\", force_remount=True).\n"
          ]
        }
      ],
      "source": [
        "from google.colab import drive\n",
        "drive.mount('/content/drive')"
      ]
    },
    {
      "cell_type": "markdown",
      "metadata": {
        "id": "jyabwPJqS1GK"
      },
      "source": [
        "## Utils"
      ]
    },
    {
      "cell_type": "code",
      "execution_count": null,
      "metadata": {
        "id": "kcNMktUzS3PZ"
      },
      "outputs": [],
      "source": [
        "def read_json(data_path):\n",
        "    with open(data_path, 'r') as file:\n",
        "        data = json.load(file)\n",
        "    return data\n",
        "\n",
        "def write_json(data_path, data):\n",
        "    with open(data_path, 'w') as f:\n",
        "        json.dump(data, f)\n",
        "\n",
        "def read_txt(txt_path):\n",
        "    f = open(txt_path, \"r\")\n",
        "    return f.read()\n",
        "\n",
        "def write_json_lines(file_name,dict_data):\n",
        "    json_string = json.dumps(dict_data)\n",
        "    with open(file_name, 'a') as f:\n",
        "        f.write(json_string+\"\\n\")\n",
        "\n",
        "def read_json_lines(file_name):\n",
        "    lines = []\n",
        "    with open(file_name) as file_in:\n",
        "        for line in file_in:\n",
        "            try:\n",
        "                lines.append(json.loads(line))\n",
        "            except:\n",
        "                continue\n",
        "    return lines\n",
        "\n",
        "def save_dict_list(file_name, dicts_data):\n",
        "    for dict_data in dicts_data:\n",
        "        write_json_lines(file_name,dict_data)"
      ]
    },
    {
      "cell_type": "markdown",
      "source": [
        "## Data"
      ],
      "metadata": {
        "id": "AYE7A3W-U7fP"
      }
    },
    {
      "cell_type": "code",
      "source": [
        "def get_intervals(data_name, model_name, q_col, a_col, ci_exaplain, cot, mixed_confidence= False, n_spies = None):\n",
        "    file_path = join(SAVE_PATH, '{}|{}|{}|{}.jsonl'.format(data_name, model_name, str(ci_exaplain), str(cot)))\n",
        "    data_df = pd.DataFrame(read_json_lines(file_path))\n",
        "    data_df = data_df[data_df['hint_type'] == 'hint0']\n",
        "    if n_spies is None:\n",
        "        n_spies = 1\n",
        "    save_path = join(SAVE_PATH, 'selfrefine|{}|{}|{}|{}|{}|{}.jsonl'.format(\n",
        "        data_name, model_name, str(ci_exaplain), str(cot), str(mixed_confidence), str(n_spies)\n",
        "    ))\n",
        "    exit_df = pd.DataFrame(read_json_lines(save_path))\n",
        "    # return data_df\n",
        "    ref_data = read_json_lines(save_path)\n",
        "    def search_origin_interval(rec):\n",
        "        id = rec['id']\n",
        "        confidence_pct = rec['confidence_pct']\n",
        "        conf_prompt_type = rec['conf_prompt_type']\n",
        "        tries = rec['tries']\n",
        "        chosen_answer = rec['chosen_answer']\n",
        "        answer = float(rec['answer'])\n",
        "        proposed_answer = rec['proposed_answer']\n",
        "\n",
        "        all_origin_intervals = []\n",
        "        all_origin_intervals_length = []\n",
        "\n",
        "        # if len(tries) != len(list(set(tries))):\n",
        "        #     # make sure all the sampledc intervals are different\n",
        "        #     return None\n",
        "        # try:\n",
        "        answer_correct = False\n",
        "        if answer >= float(chosen_answer[0]) and answer <= float(chosen_answer[1]):\n",
        "            answer_correct = True\n",
        "        # except:\n",
        "        #     return None\n",
        "        chosen_interval_ix = None\n",
        "        poposed_interval_ix = None\n",
        "        inter_diff = []\n",
        "        inter_diff_pro = []\n",
        "\n",
        "        for ix, (pct, try_) in enumerate(zip(confidence_pct, tries)):\n",
        "            new_rec = data_df[(data_df['id'] == id) & (data_df['try'] == try_) & (data_df['confidence_pct'] == pct)].to_dict('records')[0]\n",
        "            try:\n",
        "                inter = [float(new_rec['lower_bound']), float(new_rec['upper_bound'])]\n",
        "                all_origin_intervals.append(inter)\n",
        "                all_origin_intervals_length.append(abs(inter[0] - inter[1]))\n",
        "                int_d_0 = abs(inter[0] - chosen_answer[0])\n",
        "                int_d_1 = abs(inter[1] - chosen_answer[1])\n",
        "                pro_int_d_0 = abs(inter[0] - proposed_answer[0])\n",
        "                pro_int_d_1 = abs(inter[1] - proposed_answer[1])\n",
        "\n",
        "                if len(inter_diff) == 0:\n",
        "                    inter_diff.append(int_d_0)\n",
        "                    inter_diff.append(int_d_1)\n",
        "                    chosen_interval_ix = ix\n",
        "\n",
        "\n",
        "                if int_d_0 < inter_diff[0] and int_d_1 < inter_diff[1]:\n",
        "                    chosen_interval_ix = ix\n",
        "                    inter_diff[0] = int_d_0\n",
        "                    inter_diff[1] = int_d_1\n",
        "\n",
        "                if len(inter_diff_pro) == 0:\n",
        "                    inter_diff_pro.append(pro_int_d_0)\n",
        "                    inter_diff_pro.append(pro_int_d_1)\n",
        "                    poposed_interval_ix = ix\n",
        "\n",
        "                if pro_int_d_0 < inter_diff_pro[0] and pro_int_d_1 < inter_diff_pro[1]:\n",
        "                    poposed_interval_ix = ix\n",
        "                    inter_diff_pro[0] = pro_int_d_0\n",
        "                    inter_diff_pro[1] = pro_int_d_1\n",
        "            except:\n",
        "                # if the interval cannot be converted to float dont include it\n",
        "                print('err')\n",
        "                return None\n",
        "        avg_length = sum(all_origin_intervals_length)/len(all_origin_intervals_length)\n",
        "\n",
        "        return all_origin_intervals, all_origin_intervals_length, chosen_interval_ix, poposed_interval_ix, answer_correct\n",
        "\n",
        "    new_ref_data = []\n",
        "    for rec in tqdm(ref_data):\n",
        "        inter_out = search_origin_interval(rec)\n",
        "        if inter_out is not None:\n",
        "            origin_inter, origin_inter_length, chose_inter_ix, pro_inter_ix, ans_correct = inter_out\n",
        "            rec['origin_inter'] = origin_inter\n",
        "            rec['chose_inter_ix'] = chose_inter_ix\n",
        "            rec['pro_inter_ix'] = pro_inter_ix\n",
        "            rec['origin_inter_length'] = origin_inter_length\n",
        "            rec['ans_correct'] = ans_correct\n",
        "            new_ref_data.append(rec)\n",
        "    return new_ref_data\n",
        "\n",
        "    # return data_df\n",
        "    # if os.path.exists(save_path):\n",
        "    #     exit_df = pd.DataFrame(read_json_lines(save_path))\n",
        "    #     exit_df = exit_df.explode(['confidence_pct', 'tries'])\n",
        "    #     exit_df = exit_df.rename(columns={'tries': 'try'})\n",
        "    #     # return exit_df, data_df\n",
        "    #     if mixed_confidence:\n",
        "    #         cols_x = ['id', 'conf_prompt_type', 'data_name', 'model_name', 'ci_exaplain', 'cot']\n",
        "    #         exit_df = exit_df[cols_x]\n",
        "    #         data_df = data_df[~data_df['id'].isin(exit_df['id'])]\n",
        "    #     else:\n",
        "    #         cols_x = ['id', 'confidence_pct', 'try', 'conf_prompt_type', 'data_name', 'model_name', 'ci_exaplain', 'cot']\n",
        "    #         data_df['id_conf'] = data_df['id'].astype(str) + '_'+ data_df['confidence_pct'].astype(str)\n",
        "    #         exit_df['id_conf'] = exit_df['id'].astype(str) + '_'+ exit_df['confidence_pct'].astype(str)\n",
        "    #         data_df = data_df[~data_df['id_conf'].isin(exit_df['id_conf'])]\n",
        "    # else:\n",
        "    #     exit_df = None\n",
        "    # return data_df\n",
        "\n",
        "\n",
        "    # if mixed_confidence:\n",
        "    #     data_df = data_df.groupby(['id'])\n",
        "    #     data_df = [i[-1].to_dict('records') for i in list(data_df)]\n",
        "    # else:\n",
        "    #     data_df = data_df.groupby(['id', 'confidence_pct']).sample(n_spies, replace=True)\n",
        "    #     data_df = data_df.groupby(['id', 'confidence_pct'])\n",
        "    #     data_df = [i[-1].to_dict('records') for i in list(data_df)]\n",
        "\n",
        "    return data_df\n",
        "\n",
        "def analyse_intervals(ref_data, data_name, model_name):\n",
        "    # get chosen interval rank within origin intervals\n",
        "    all_ranks = []\n",
        "    all_ranks_correct = []\n",
        "    all_ranks_incorrect = []\n",
        "\n",
        "    def plot_ranks(ranks_info, sub = None):\n",
        "        rank_counts = dict(Counter(ranks_info))\n",
        "        rank_counts = {k:(v/len(ranks_info))*100 for k, v in rank_counts.items()}\n",
        "        rank_counts = pd.DataFrame({'ranks': list(rank_counts.keys()), 'percentage': list(rank_counts.values())}).dropna()\n",
        "        rank_counts = rank_counts.sort_values(by = 'ranks')\n",
        "        ax = rank_counts.plot(kind='bar', x='ranks', y='percentage', rot=0, color=\"b\")\n",
        "        SIZE_ = 18\n",
        "\n",
        "        plt.rc('font', size=SIZE_)          # controls default text sizes\n",
        "        plt.rc('axes', titlesize=SIZE_)     # fontsize of the axes title\n",
        "        plt.rc('axes', labelsize=SIZE_)    # fontsize of the x and y labels\n",
        "        plt.rc('xtick', labelsize=SIZE_)    # fontsize of the tick labels\n",
        "        plt.rc('ytick', labelsize=SIZE_)    # fontsize of the tick labels\n",
        "        plt.rc('legend', fontsize=SIZE_)    # legend fontsize\n",
        "\n",
        "        ax.set_xlabel(\"Selected Interval Rank\")\n",
        "        ax.set_ylabel(\"Percentage (%)\")\n",
        "        if sub is not None:\n",
        "            plt.savefig(join(SAVE_PATH, 'rank_figures', 'selfrefranks_{}_{}_{}.pdf'.format(data_name, model_name, sub)), bbox_inches='tight')\n",
        "\n",
        "    for rec in ref_data:\n",
        "        origin_inter = rec['origin_inter']\n",
        "        chosen_answer = rec['chosen_answer']\n",
        "        chose_inter_ix = rec['chose_inter_ix']\n",
        "        pro_inter_ix = rec['pro_inter_ix']\n",
        "        origin_inter_length = rec['origin_inter_length']\n",
        "        ans_correct = rec['ans_correct']\n",
        "\n",
        "        # ranks = np.array(origin_inter_length).argsort().argsort()\n",
        "        ranks = rankdata(np.array(origin_inter_length), method='dense')\n",
        "\n",
        "        origin_rank = ranks[chose_inter_ix].item()\n",
        "        all_ranks.append(origin_rank)\n",
        "        if ans_correct:\n",
        "            all_ranks_correct.append(origin_rank)\n",
        "        else:\n",
        "            all_ranks_incorrect.append(origin_rank)\n",
        "    plot_ranks(ranks_info = all_ranks)\n",
        "    plot_ranks(ranks_info = all_ranks_correct, sub = 'correct')\n",
        "    plot_ranks(ranks_info = all_ranks_incorrect, sub = 'incorrect')\n",
        "\n",
        "    # rank_counts = dict(Counter(all_ranks))\n",
        "    # rank_counts = {k:(v/len(all_ranks))*100 for k, v in rank_counts.items()}\n",
        "    # rank_counts = pd.DataFrame({'ranks': list(rank_counts.keys()), 'percentage': list(rank_counts.values())}).dropna()\n",
        "    # rank_counts = rank_counts.sort_values(by = 'ranks')\n",
        "    # ax = rank_counts.plot(kind='bar', x='ranks', y='percentage', rot=0, color=\"b\")\n",
        "    # SIZE_ = 18\n",
        "\n",
        "    # plt.rc('font', size=SIZE_)          # controls default text sizes\n",
        "    # plt.rc('axes', titlesize=SIZE_)     # fontsize of the axes title\n",
        "    # plt.rc('axes', labelsize=SIZE_)    # fontsize of the x and y labels\n",
        "    # plt.rc('xtick', labelsize=SIZE_)    # fontsize of the tick labels\n",
        "    # plt.rc('ytick', labelsize=SIZE_)    # fontsize of the tick labels\n",
        "    # plt.rc('legend', fontsize=SIZE_)    # legend fontsize\n",
        "\n",
        "    # ax.set_xlabel(\"Selected Interval Rank\")\n",
        "    # ax.set_ylabel(\"Percentage (%)\")\n",
        "    # plt.savefig(join(SAVE_PATH, 'rank_figures', 'selfrefranks_{}_{}.pdf'.format(data_name, model_name)), bbox_inches='tight')\n",
        "    # return rank_counts\n"
      ],
      "metadata": {
        "id": "VPetka1OU8an"
      },
      "execution_count": null,
      "outputs": []
    },
    {
      "cell_type": "code",
      "source": [],
      "metadata": {
        "id": "Eb3a29h1VsAm"
      },
      "execution_count": null,
      "outputs": []
    },
    {
      "cell_type": "code",
      "source": [
        "DATASET = \"mmlu\" # mmlu, medmcqa_medqa finqa\n",
        "MODEL_NAME = 'gpt-4o-mini'# gpt-3.5-turbo gpt-4o-mini"
      ],
      "metadata": {
        "id": "KRU-mCiAtrqk"
      },
      "execution_count": null,
      "outputs": []
    },
    {
      "cell_type": "code",
      "source": [
        "MIX_CONF = False\n",
        "\n",
        "xx = get_intervals(data_name = DATASET, model_name = MODEL_NAME, q_col = 'question', a_col= 'final_answer',\n",
        "                          ci_exaplain = True, cot = False, mixed_confidence = MIX_CONF, n_spies = 4)\n",
        "# xx = selfrefine_intervals_parallel(data_name = DATASET, model_name = MODEL_NAME, q_col = 'question', a_col= 'final_answer',\n",
        "#                           ci_exaplain = True, cot = False, mixed_confidence = MIX_CONF, n_spies = 2)\n",
        "# xx = selfrefine_intervals_parallel(data_name = DATASET, model_name = MODEL_NAME, q_col = 'question', a_col= 'final_answer',\n",
        "#                           ci_exaplain = True, cot = False, mixed_confidence = MIX_CONF, n_spies = 3)\n",
        "# xx = selfrefine_intervals_parallel(data_name = DATASET, model_name = MODEL_NAME, q_col = 'question', a_col= 'final_answer',\n",
        "#                           ci_exaplain = True, cot = False, mixed_confidence = MIX_CONF, n_spies = 4)"
      ],
      "metadata": {
        "id": "f6_TzGfurYaU",
        "colab": {
          "base_uri": "https://localhost:8080/",
          "height": 529,
          "referenced_widgets": [
            "d1fa070ecef945199680d596f0f16787",
            "6c5d112b820c47ccb5072ed4181fe438",
            "887a5a57d2884258b5dac32230a70154",
            "448cba2ebd574d5ca111ebafd62157d3",
            "0587613322814fcfa1b1c3ba49244b07",
            "84e4e78b2b3b42118ca4acf10a9e752f",
            "affe8903dc974b3db7e32484e7ae21cc",
            "1cabded1a82a4ee99eba95ec9333573a",
            "d77691d3d9094059aeb2c34cd7f4b083",
            "f730c74a8247461da011c6182f092a79",
            "edfbcc4131d64f1e95dcca21a25368df"
          ]
        },
        "outputId": "423ca620-1d62-4752-d102-aed9f61e79d5"
      },
      "execution_count": null,
      "outputs": [
        {
          "output_type": "display_data",
          "data": {
            "text/plain": [
              "  0%|          | 0/8027 [00:00<?, ?it/s]"
            ],
            "application/vnd.jupyter.widget-view+json": {
              "version_major": 2,
              "version_minor": 0,
              "model_id": "d1fa070ecef945199680d596f0f16787"
            }
          },
          "metadata": {}
        },
        {
          "output_type": "stream",
          "name": "stdout",
          "text": [
            "err\n",
            "err\n",
            "err\n",
            "err\n",
            "err\n",
            "err\n",
            "err\n",
            "err\n",
            "err\n",
            "err\n",
            "err\n",
            "err\n",
            "err\n",
            "err\n",
            "err\n",
            "err\n",
            "err\n",
            "err\n",
            "err\n",
            "err\n",
            "err\n",
            "err\n",
            "err\n",
            "err\n",
            "err\n",
            "err\n"
          ]
        }
      ]
    },
    {
      "cell_type": "code",
      "source": [
        "xx[0]"
      ],
      "metadata": {
        "colab": {
          "base_uri": "https://localhost:8080/"
        },
        "id": "ZESmmSZxzq5a",
        "outputId": "46ce768c-8cc3-4a10-c019-7cbb9744e080"
      },
      "execution_count": null,
      "outputs": [
        {
          "output_type": "execute_result",
          "data": {
            "text/plain": [
              "{'id': 21,\n",
              " 'confidence_pct': [95, 95, 95, 95],\n",
              " 'conf_prompt_type': 'both',\n",
              " 'hint_type': 'hint0',\n",
              " 'tries': [3, 3, 3, 1],\n",
              " 'data_name': 'mmlu',\n",
              " 'model_name': 'gpt-4o-mini',\n",
              " 'ci_exaplain': True,\n",
              " 'cot': False,\n",
              " 'question': 'According to a pH scale, which pH would be the strongest acid?',\n",
              " 'answer': 3.0,\n",
              " 'chosen_answer': [0, 1],\n",
              " 'chosen_reason': 'All answers indicate a pH range between 0 to 1, which accurately represents strong acids on the pH scale, with high confidence in the correctness.',\n",
              " 'proposed_answer': [0, 1],\n",
              " 'proposed_reason': 'There is no stronger acid reported than a pH of 0, and the consensus among answers reinforces this, thus the proposed answer remains the same.',\n",
              " 'origin_inter': [[0.0, 1.0], [0.0, 1.0], [0.0, 1.0], [0.0, 3.0]],\n",
              " 'chose_inter_ix': 0,\n",
              " 'pro_inter_ix': 0,\n",
              " 'origin_inter_length': [1.0, 1.0, 1.0, 3.0],\n",
              " 'ans_correct': False}"
            ]
          },
          "metadata": {},
          "execution_count": 296
        }
      ]
    },
    {
      "cell_type": "code",
      "source": [
        "len(xx)"
      ],
      "metadata": {
        "colab": {
          "base_uri": "https://localhost:8080/"
        },
        "id": "fEFO_PPXWDU-",
        "outputId": "52810e19-f30a-4a14-a996-dfd39b38f845"
      },
      "execution_count": null,
      "outputs": [
        {
          "output_type": "execute_result",
          "data": {
            "text/plain": [
              "8001"
            ]
          },
          "metadata": {},
          "execution_count": 297
        }
      ]
    },
    {
      "cell_type": "code",
      "source": [
        "xx[3]"
      ],
      "metadata": {
        "colab": {
          "base_uri": "https://localhost:8080/"
        },
        "id": "qLm0xjfFWHLG",
        "outputId": "32affcb6-89ba-49c4-b93f-b339600b111a"
      },
      "execution_count": null,
      "outputs": [
        {
          "output_type": "execute_result",
          "data": {
            "text/plain": [
              "{'id': 0,\n",
              " 'confidence_pct': [60, 60, 60, 60],\n",
              " 'conf_prompt_type': 'both',\n",
              " 'hint_type': 'hint0',\n",
              " 'tries': [3, 3, 4, 3],\n",
              " 'data_name': 'mmlu',\n",
              " 'model_name': 'gpt-4o-mini',\n",
              " 'ci_exaplain': True,\n",
              " 'cot': False,\n",
              " 'question': 'How many chromosomes are in a human sperm cell?',\n",
              " 'answer': 23.0,\n",
              " 'chosen_answer': [22, 24],\n",
              " 'chosen_reason': 'All responses consistently suggest that there are 22 to 24 chromosomes in a human sperm cell, reflecting a moderate confidence level of 60%, which suggests they believe these numbers to be correct despite their uncertainty.',\n",
              " 'proposed_answer': [23, 23],\n",
              " 'proposed_reason': 'Human sperm cells typically contain 23 chromosomes, which is the haploid number in humans. The proposed interval is narrower due to higher certainty about the exact number of chromosomes.',\n",
              " 'origin_inter': [[22.0, 24.0], [22.0, 24.0], [22.0, 24.0], [22.0, 24.0]],\n",
              " 'chose_inter_ix': 0,\n",
              " 'pro_inter_ix': 0,\n",
              " 'origin_inter_length': [2.0, 2.0, 2.0, 2.0],\n",
              " 'ans_correct': True}"
            ]
          },
          "metadata": {},
          "execution_count": 298
        }
      ]
    },
    {
      "cell_type": "code",
      "source": [
        "xx_ranks = analyse_intervals(ref_data = xx, data_name = DATASET, model_name = MODEL_NAME)"
      ],
      "metadata": {
        "colab": {
          "base_uri": "https://localhost:8080/",
          "height": 1000
        },
        "id": "eps52kgpc4Eh",
        "outputId": "bab1359a-012e-41a9-9ed1-6b4c7af542c0"
      },
      "execution_count": null,
      "outputs": [
        {
          "output_type": "display_data",
          "data": {
            "text/plain": [
              "<Figure size 640x480 with 1 Axes>"
            ],
            "image/png": "[encoded data removed]"
          },
          "metadata": {}
        },
        {
          "output_type": "display_data",
          "data": {
            "text/plain": [
              "<Figure size 640x480 with 1 Axes>"
            ],
            "image/png": "[encoded data removed]"
          },
          "metadata": {}
        },
        {
          "output_type": "display_data",
          "data": {
            "text/plain": [
              "<Figure size 640x480 with 1 Axes>"
            ],
            "image/png": "[encoded data removed]"
          },
          "metadata": {}
        }
      ]
    },
    {
      "cell_type": "code",
      "source": [
        "xx_ranks.dropna()"
      ],
      "metadata": {
        "colab": {
          "base_uri": "https://localhost:8080/",
          "height": 148
        },
        "id": "P5GHQeOgmPvA",
        "outputId": "8a6391bf-9cbd-4160-c38d-737a067bb350"
      },
      "execution_count": null,
      "outputs": [
        {
          "output_type": "error",
          "ename": "AttributeError",
          "evalue": "'NoneType' object has no attribute 'dropna'",
          "traceback": [
            "\u001b[0;31m---------------------------------------------------------------------------\u001b[0m",
            "\u001b[0;31mAttributeError\u001b[0m                            Traceback (most recent call last)",
            "\u001b[0;32m/tmp/ipython-input-3185226342.py\u001b[0m in \u001b[0;36m<cell line: 0>\u001b[0;34m()\u001b[0m\n\u001b[0;32m----> 1\u001b[0;31m \u001b[0mxx_ranks\u001b[0m\u001b[0;34m.\u001b[0m\u001b[0mdropna\u001b[0m\u001b[0;34m(\u001b[0m\u001b[0;34m)\u001b[0m\u001b[0;34m\u001b[0m\u001b[0;34m\u001b[0m\u001b[0m\n\u001b[0m",
            "\u001b[0;31mAttributeError\u001b[0m: 'NoneType' object has no attribute 'dropna'"
          ]
        }
      ]
    },
    {
      "cell_type": "code",
      "source": [
        "xx_ranks[0].item()"
      ],
      "metadata": {
        "colab": {
          "base_uri": "https://localhost:8080/"
        },
        "id": "2YtSr5AdlJZa",
        "outputId": "12890a42-98ea-479e-d6f6-c4b12aaea7fd"
      },
      "execution_count": null,
      "outputs": [
        {
          "output_type": "execute_result",
          "data": {
            "text/plain": [
              "2"
            ]
          },
          "metadata": {},
          "execution_count": 112
        }
      ]
    }
  ]
}